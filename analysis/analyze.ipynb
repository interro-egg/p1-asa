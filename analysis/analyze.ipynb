{
 "cells": [
  {
   "cell_type": "code",
   "execution_count": 17,
   "metadata": {},
   "outputs": [],
   "source": [
    "import pandas as pd\n",
    "import seaborn as sns\n",
    "import matplotlib.pyplot as plt\n",
    "import numpy as np\n",
    "\n",
    "sns.set_theme(style=\"whitegrid\", palette=\"colorblind\") # https://seaborn.pydata.org/generated/seaborn.set_theme.html#seaborn.set_theme\n",
    "df_p1 = pd.read_csv(\"./prob1-combined.csv\") # cvs com headers: n, mean, ..."
   ]
  },
  {
   "cell_type": "code",
   "execution_count": 2,
   "metadata": {},
   "outputs": [],
   "source": [
    "df_p1['n_nlogn_10'] = df_p1['n'] * np.log10(df_p1['n'])\n",
    "df_p1['n_nlogn_2'] = df_p1['n'] * np.log2(df_p1['n'])"
   ]
  },
  {
   "cell_type": "code",
   "execution_count": 6,
   "metadata": {},
   "outputs": [
    {
     "data": {
      "text/html": [
       "<div>\n",
       "<style scoped>\n",
       "    .dataframe tbody tr th:only-of-type {\n",
       "        vertical-align: middle;\n",
       "    }\n",
       "\n",
       "    .dataframe tbody tr th {\n",
       "        vertical-align: top;\n",
       "    }\n",
       "\n",
       "    .dataframe thead th {\n",
       "        text-align: right;\n",
       "    }\n",
       "</style>\n",
       "<table border=\"1\" class=\"dataframe\">\n",
       "  <thead>\n",
       "    <tr style=\"text-align: right;\">\n",
       "      <th></th>\n",
       "      <th>n</th>\n",
       "      <th>command</th>\n",
       "      <th>mean</th>\n",
       "      <th>stddev</th>\n",
       "      <th>median</th>\n",
       "      <th>user</th>\n",
       "      <th>system</th>\n",
       "      <th>min</th>\n",
       "      <th>max</th>\n",
       "      <th>n_nlogn_10</th>\n",
       "      <th>n_nlogn_2</th>\n",
       "    </tr>\n",
       "  </thead>\n",
       "  <tbody>\n",
       "  </tbody>\n",
       "</table>\n",
       "</div>"
      ],
      "text/plain": [
       "Empty DataFrame\n",
       "Columns: [n, command, mean, stddev, median, user, system, min, max, n_nlogn_10, n_nlogn_2]\n",
       "Index: []"
      ]
     },
     "execution_count": 6,
     "metadata": {},
     "output_type": "execute_result"
    }
   ],
   "source": [
    "df_p1"
   ]
  },
  {
   "cell_type": "code",
   "execution_count": 4,
   "metadata": {},
   "outputs": [
    {
     "data": {
      "text/plain": [
       "(0.9995445813533165, 0.9997239303735581, 0.9997239303735581)"
      ]
     },
     "execution_count": 4,
     "metadata": {},
     "output_type": "execute_result"
    }
   ],
   "source": [
    "from scipy import stats\n",
    "r_value_n = stats.linregress(df_p1['n'], df_p1['mean'])[2]\n",
    "r_value_nlogn_2 = stats.linregress(df_p1['n_nlogn_2'], df_p1['mean'])[2]\n",
    "r_value_nlogn_10 = stats.linregress(df_p1['n_nlogn_10'], df_p1['mean'])[2]\n",
    "\n",
    "r_value_n**2, r_value_nlogn_2**2, r_value_nlogn_10**2\n",
    "\n",
    "# se r_value_n**2 < r_value_nlogn**, então é NlogN"
   ]
  },
  {
   "cell_type": "code",
   "execution_count": 26,
   "metadata": {},
   "outputs": [
    {
     "name": "stderr",
     "output_type": "stream",
     "text": [
      "/tmp/ipykernel_86514/2470553738.py:6: RuntimeWarning: divide by zero encountered in log10\n",
      "  ax.set_xscale(\"function\", functions=(lambda x: x * np.log10(x), lambda x: x))\n",
      "/tmp/ipykernel_86514/2470553738.py:6: RuntimeWarning: invalid value encountered in multiply\n",
      "  ax.set_xscale(\"function\", functions=(lambda x: x * np.log10(x), lambda x: x))\n"
     ]
    },
    {
     "data": {
      "image/png": "[encoded data removed]",
      "text/plain": [
       "<Figure size 432x288 with 1 Axes>"
      ]
     },
     "metadata": {},
     "output_type": "display_data"
    }
   ],
   "source": [
    "#plt.figure(figsize=(20, 8))\n",
    "ax = sns.lineplot(x=\"n\", y=\"mean\", data=df_p1, err_style=\"bars\", ci=\"sd\")\n",
    "ax.set_xlim(left=10)\n",
    "ax.set_xlabel(\"n\")\n",
    "ax.set_ylabel(\"t\")\n",
    "ax.set_xscale(\"function\", functions=(lambda x: x * np.log10(x), lambda x: x))\n",
    "plt.title(\"Problema 1\")\n",
    "plt.savefig(\"./prob1_graph.png\")"
   ]
  },
  {
   "cell_type": "code",
   "execution_count": 8,
   "metadata": {},
   "outputs": [],
   "source": [
    "df_p2 = pd.read_csv(\"./prob2-1641905231.csv\") # csv with headers: n1, n2, mean\n",
    "df_p2['nm'] = df_p2['n'] ** 2 # * df_p2['n2']"
   ]
  },
  {
   "cell_type": "code",
   "execution_count": 9,
   "metadata": {},
   "outputs": [
    {
     "data": {
      "text/html": [
       "<div>\n",
       "<style scoped>\n",
       "    .dataframe tbody tr th:only-of-type {\n",
       "        vertical-align: middle;\n",
       "    }\n",
       "\n",
       "    .dataframe tbody tr th {\n",
       "        vertical-align: top;\n",
       "    }\n",
       "\n",
       "    .dataframe thead th {\n",
       "        text-align: right;\n",
       "    }\n",
       "</style>\n",
       "<table border=\"1\" class=\"dataframe\">\n",
       "  <thead>\n",
       "    <tr style=\"text-align: right;\">\n",
       "      <th></th>\n",
       "      <th>n</th>\n",
       "      <th>command</th>\n",
       "      <th>mean</th>\n",
       "      <th>stddev</th>\n",
       "      <th>median</th>\n",
       "      <th>user</th>\n",
       "      <th>system</th>\n",
       "      <th>min</th>\n",
       "      <th>max</th>\n",
       "      <th>nm</th>\n",
       "    </tr>\n",
       "  </thead>\n",
       "  <tbody>\n",
       "    <tr>\n",
       "      <th>0</th>\n",
       "      <td>10</td>\n",
       "      <td>../project &lt; in.txt</td>\n",
       "      <td>0.004004</td>\n",
       "      <td>0.002052</td>\n",
       "      <td>0.003710</td>\n",
       "      <td>0.002973</td>\n",
       "      <td>0.001260</td>\n",
       "      <td>0.000991</td>\n",
       "      <td>0.009748</td>\n",
       "      <td>100</td>\n",
       "    </tr>\n",
       "    <tr>\n",
       "      <th>1</th>\n",
       "      <td>11</td>\n",
       "      <td>../project &lt; in.txt</td>\n",
       "      <td>0.002346</td>\n",
       "      <td>0.001947</td>\n",
       "      <td>0.001638</td>\n",
       "      <td>0.001995</td>\n",
       "      <td>0.000711</td>\n",
       "      <td>0.000979</td>\n",
       "      <td>0.012503</td>\n",
       "      <td>121</td>\n",
       "    </tr>\n",
       "    <tr>\n",
       "      <th>2</th>\n",
       "      <td>12</td>\n",
       "      <td>../project &lt; in.txt</td>\n",
       "      <td>0.004433</td>\n",
       "      <td>0.003462</td>\n",
       "      <td>0.002450</td>\n",
       "      <td>0.003252</td>\n",
       "      <td>0.001485</td>\n",
       "      <td>0.000862</td>\n",
       "      <td>0.012618</td>\n",
       "      <td>144</td>\n",
       "    </tr>\n",
       "    <tr>\n",
       "      <th>3</th>\n",
       "      <td>13</td>\n",
       "      <td>../project &lt; in.txt</td>\n",
       "      <td>0.004118</td>\n",
       "      <td>0.002635</td>\n",
       "      <td>0.003080</td>\n",
       "      <td>0.003029</td>\n",
       "      <td>0.001354</td>\n",
       "      <td>0.000885</td>\n",
       "      <td>0.009643</td>\n",
       "      <td>169</td>\n",
       "    </tr>\n",
       "    <tr>\n",
       "      <th>4</th>\n",
       "      <td>14</td>\n",
       "      <td>../project &lt; in.txt</td>\n",
       "      <td>0.003822</td>\n",
       "      <td>0.002634</td>\n",
       "      <td>0.003099</td>\n",
       "      <td>0.002976</td>\n",
       "      <td>0.001159</td>\n",
       "      <td>0.000907</td>\n",
       "      <td>0.012232</td>\n",
       "      <td>196</td>\n",
       "    </tr>\n",
       "    <tr>\n",
       "      <th>...</th>\n",
       "      <td>...</td>\n",
       "      <td>...</td>\n",
       "      <td>...</td>\n",
       "      <td>...</td>\n",
       "      <td>...</td>\n",
       "      <td>...</td>\n",
       "      <td>...</td>\n",
       "      <td>...</td>\n",
       "      <td>...</td>\n",
       "      <td>...</td>\n",
       "    </tr>\n",
       "    <tr>\n",
       "      <th>355</th>\n",
       "      <td>95000</td>\n",
       "      <td>../project &lt; in.txt</td>\n",
       "      <td>4.994726</td>\n",
       "      <td>0.008012</td>\n",
       "      <td>4.994076</td>\n",
       "      <td>4.989308</td>\n",
       "      <td>0.003759</td>\n",
       "      <td>4.984775</td>\n",
       "      <td>5.003948</td>\n",
       "      <td>9025000000</td>\n",
       "    </tr>\n",
       "    <tr>\n",
       "      <th>356</th>\n",
       "      <td>96000</td>\n",
       "      <td>../project &lt; in.txt</td>\n",
       "      <td>5.083058</td>\n",
       "      <td>0.010851</td>\n",
       "      <td>5.075759</td>\n",
       "      <td>5.076103</td>\n",
       "      <td>0.005214</td>\n",
       "      <td>5.073759</td>\n",
       "      <td>5.100038</td>\n",
       "      <td>9216000000</td>\n",
       "    </tr>\n",
       "    <tr>\n",
       "      <th>357</th>\n",
       "      <td>97000</td>\n",
       "      <td>../project &lt; in.txt</td>\n",
       "      <td>5.205870</td>\n",
       "      <td>0.007585</td>\n",
       "      <td>5.204031</td>\n",
       "      <td>5.197088</td>\n",
       "      <td>0.007009</td>\n",
       "      <td>5.200338</td>\n",
       "      <td>5.227046</td>\n",
       "      <td>9409000000</td>\n",
       "    </tr>\n",
       "    <tr>\n",
       "      <th>358</th>\n",
       "      <td>98000</td>\n",
       "      <td>../project &lt; in.txt</td>\n",
       "      <td>5.320740</td>\n",
       "      <td>0.023128</td>\n",
       "      <td>5.308136</td>\n",
       "      <td>5.316477</td>\n",
       "      <td>0.002544</td>\n",
       "      <td>5.304561</td>\n",
       "      <td>5.358064</td>\n",
       "      <td>9604000000</td>\n",
       "    </tr>\n",
       "    <tr>\n",
       "      <th>359</th>\n",
       "      <td>99000</td>\n",
       "      <td>../project &lt; in.txt</td>\n",
       "      <td>5.418972</td>\n",
       "      <td>0.013830</td>\n",
       "      <td>5.413310</td>\n",
       "      <td>5.412278</td>\n",
       "      <td>0.004872</td>\n",
       "      <td>5.409203</td>\n",
       "      <td>5.447500</td>\n",
       "      <td>9801000000</td>\n",
       "    </tr>\n",
       "  </tbody>\n",
       "</table>\n",
       "<p>360 rows × 10 columns</p>\n",
       "</div>"
      ],
      "text/plain": [
       "         n              command      mean    stddev    median      user  \\\n",
       "0       10  ../project < in.txt  0.004004  0.002052  0.003710  0.002973   \n",
       "1       11  ../project < in.txt  0.002346  0.001947  0.001638  0.001995   \n",
       "2       12  ../project < in.txt  0.004433  0.003462  0.002450  0.003252   \n",
       "3       13  ../project < in.txt  0.004118  0.002635  0.003080  0.003029   \n",
       "4       14  ../project < in.txt  0.003822  0.002634  0.003099  0.002976   \n",
       "..     ...                  ...       ...       ...       ...       ...   \n",
       "355  95000  ../project < in.txt  4.994726  0.008012  4.994076  4.989308   \n",
       "356  96000  ../project < in.txt  5.083058  0.010851  5.075759  5.076103   \n",
       "357  97000  ../project < in.txt  5.205870  0.007585  5.204031  5.197088   \n",
       "358  98000  ../project < in.txt  5.320740  0.023128  5.308136  5.316477   \n",
       "359  99000  ../project < in.txt  5.418972  0.013830  5.413310  5.412278   \n",
       "\n",
       "       system       min       max          nm  \n",
       "0    0.001260  0.000991  0.009748         100  \n",
       "1    0.000711  0.000979  0.012503         121  \n",
       "2    0.001485  0.000862  0.012618         144  \n",
       "3    0.001354  0.000885  0.009643         169  \n",
       "4    0.001159  0.000907  0.012232         196  \n",
       "..        ...       ...       ...         ...  \n",
       "355  0.003759  4.984775  5.003948  9025000000  \n",
       "356  0.005214  5.073759  5.100038  9216000000  \n",
       "357  0.007009  5.200338  5.227046  9409000000  \n",
       "358  0.002544  5.304561  5.358064  9604000000  \n",
       "359  0.004872  5.409203  5.447500  9801000000  \n",
       "\n",
       "[360 rows x 10 columns]"
      ]
     },
     "execution_count": 9,
     "metadata": {},
     "output_type": "execute_result"
    }
   ],
   "source": [
    "df_p2"
   ]
  },
  {
   "cell_type": "code",
   "execution_count": 31,
   "metadata": {},
   "outputs": [
    {
     "data": {
      "image/png": "[encoded data removed]",
      "text/plain": [
       "<Figure size 432x288 with 1 Axes>"
      ]
     },
     "metadata": {},
     "output_type": "display_data"
    }
   ],
   "source": [
    "#plt.figure(figsize=(20, 8))\n",
    "ax = sns.lineplot(x=\"n\", y=\"mean\", data=df_p2, err_style=\"bars\", ci=\"sd\")\n",
    "ax.set_xlim(left=10)\n",
    "ax.set_xlabel(\"n\")\n",
    "ax.set_ylabel(\"t\")\n",
    "ax.set_xscale(\"function\", functions=(lambda x: x ** 2, lambda x: x ** (1/2)))\n",
    "plt.title(\"Problema 2\")\n",
    "plt.tight_layout()\n",
    "plt.savefig(\"./prob2_graph.png\")"
   ]
  }
 ],
 "metadata": {
  "interpreter": {
   "hash": "e7370f93d1d0cde622a1f8e1c04877d8463912d04d973331ad4851f04de6915a"
  },
  "kernelspec": {
   "display_name": "Python 3.10.1 64-bit",
   "language": "python",
   "name": "python3"
  },
  "language_info": {
   "codemirror_mode": {
    "name": "ipython",
    "version": 3
   },
   "file_extension": ".py",
   "mimetype": "text/x-python",
   "name": "python",
   "nbconvert_exporter": "python",
   "pygments_lexer": "ipython3",
   "version": "3.10.1"
  },
  "orig_nbformat": 4
 },
 "nbformat": 4,
 "nbformat_minor": 2
}
